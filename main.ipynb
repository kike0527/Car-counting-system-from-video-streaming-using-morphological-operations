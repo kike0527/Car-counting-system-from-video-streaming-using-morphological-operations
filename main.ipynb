{
 "cells": [
  {
   "cell_type": "markdown",
   "id": "fifteen-professor",
   "metadata": {},
   "source": [
    "# Automatically count cars from a video streaming using morphological transformations and OpenCV.\n",
    "\n",
    "This is a basis introduction for moving object detection over a video streaming. We detect contours (cars) by computing diference between two frames (images) from the incoming video and keep track of such objects, also known as Blobs.\n",
    "\n",
    "Once those blobs are detected, we increase a counter when a line (customly drawn on the video) is met by the blob."
   ]
  },
  {
   "cell_type": "markdown",
   "id": "native-berlin",
   "metadata": {},
   "source": [
    "### Import the required libraries."
   ]
  },
  {
   "cell_type": "code",
   "execution_count": 3,
   "id": "white-fiber",
   "metadata": {},
   "outputs": [],
   "source": [
    "import cv2\n",
    "import numpy as np\n",
    "from time import sleep"
   ]
  },
  {
   "cell_type": "markdown",
   "id": "permanent-denver",
   "metadata": {},
   "source": [
    "### Set parameters"
   ]
  },
  {
   "cell_type": "code",
   "execution_count": 5,
   "id": "ruled-timber",
   "metadata": {},
   "outputs": [],
   "source": [
    "#min width and heigth (in pixels) of a blob to be considered a car.\n",
    "width_min=50\n",
    "heigth_min=50 \n",
    "\n",
    "#Max error threshold between blobs (distance from the same blob between 2 frames to consider it as the same one).\n",
    "offset=6 \n",
    "\n",
    "#Position (in pixels) over the Y axis where the like is drawn.\n",
    "line_pos=550 #Posição da linha de contagem \n",
    "\n",
    "#Max video FPS\n",
    "delay= 60\n",
    "\n",
    "#List to keep track of the active blobs on the video.\n",
    "detected = []\n",
    "\n",
    "#counter\n",
    "cars = 0"
   ]
  },
  {
   "cell_type": "markdown",
   "id": "temporal-register",
   "metadata": {},
   "source": [
    "### Iterate over video."
   ]
  },
  {
   "cell_type": "code",
   "execution_count": 6,
   "id": "korean-sterling",
   "metadata": {},
   "outputs": [
    {
     "name": "stdout",
     "output_type": "stream",
     "text": [
      "Total cars detected : 1\n",
      "Total cars detected : 2\n",
      "Total cars detected : 3\n",
      "Total cars detected : 4\n",
      "Total cars detected : 5\n",
      "Total cars detected : 6\n",
      "Total cars detected : 7\n",
      "Total cars detected : 8\n",
      "Total cars detected : 9\n",
      "Total cars detected : 10\n",
      "Total cars detected : 11\n",
      "Total cars detected : 12\n",
      "Total cars detected : 13\n",
      "Total cars detected : 14\n",
      "Total cars detected : 15\n",
      "Total cars detected : 16\n",
      "Total cars detected : 17\n",
      "Total cars detected : 18\n",
      "Total cars detected : 19\n",
      "Total cars detected : 20\n",
      "Total cars detected : 21\n",
      "Total cars detected : 22\n",
      "Total cars detected : 23\n",
      "Total cars detected : 24\n",
      "Total cars detected : 25\n",
      "Total cars detected : 26\n",
      "Total cars detected : 27\n",
      "Total cars detected : 28\n",
      "Total cars detected : 29\n",
      "Total cars detected : 30\n",
      "Total cars detected : 31\n",
      "Total cars detected : 32\n"
     ]
    }
   ],
   "source": [
    "#set input video\n",
    "cap = cv2.VideoCapture('./data/video.mp4')\n",
    "#Initialize background segmentator (To extract the moving foreground from static background).\n",
    "sub = cv2.bgsegm.createBackgroundSubtractorMOG()\n",
    "\n",
    "#Get center pixels of a given box.\n",
    "def get_center(x, y, w, h):\n",
    "    x1 = int(w / 2)\n",
    "    y1 = int(h / 2)\n",
    "    cx = x + x1\n",
    "    cy = y + y1\n",
    "    return cx,cy\n",
    "\n",
    "#Iterate video frames\n",
    "while True:\n",
    "    #Read next frame\n",
    "    ret , frame1 = cap.read()\n",
    "    #FPS\n",
    "    time = float(1/delay)\n",
    "    sleep(time)\n",
    "    #Convert image to grayscale\n",
    "    grey = cv2.cvtColor(frame1,cv2.COLOR_BGR2GRAY)\n",
    "    #Add blur to image in order to increase performance on blob detection\n",
    "    blur = cv2.GaussianBlur(grey,(3,3),5)\n",
    "    #Get the moving foreground from video (vehicles)\n",
    "    img_sub = sub.apply(blur)\n",
    "    #Apply morphological operations to image.\n",
    "    dilat = cv2.dilate(img_sub,np.ones((5,5)))\n",
    "    kernel = cv2.getStructuringElement(cv2.MORPH_ELLIPSE, (5, 5))\n",
    "    dilat2 = cv2.morphologyEx (dilat, cv2. MORPH_CLOSE , kernel)\n",
    "    dilat2 = cv2.morphologyEx (dilat2, cv2. MORPH_CLOSE , kernel)\n",
    "    #Get blobs\n",
    "    blobs,h=cv2.findContours(dilat2,cv2.RETR_TREE,cv2.CHAIN_APPROX_SIMPLE)\n",
    "    #Draw line\n",
    "    cv2.line(frame1, (25, line_pos), (1200, line_pos), (255,127,0), 3) \n",
    "    for(i,c) in enumerate(blobs):\n",
    "        #Get the bounding box for the blob\n",
    "        (x,y,w,h) = cv2.boundingRect(c)\n",
    "        #Validate min width and heigth to be considered as a possible car\n",
    "        if not ((w >= width_min) and (h >= heigth_min)):\n",
    "            continue\n",
    "        #Draw bounding box on moving blob\n",
    "        cv2.rectangle(frame1,(x,y),(x+w,y+h),(0,255,0),2)    \n",
    "        #Get blob's center\n",
    "        center = get_center(x, y, w, h)\n",
    "        #Add blob's center to detected cars\n",
    "        detected.append(center)\n",
    "        #Draw center of the blob.\n",
    "        cv2.circle(frame1, center, 4, (0, 0,255), -1)\n",
    "\n",
    "        #Validate if any of the detected blobs has already met the threshold\n",
    "        for (x,y) in detected:\n",
    "            if y<(line_pos+offset) and y>(line_pos-offset):\n",
    "                cars+=1\n",
    "                #Change color line to denote a car has been counted.\n",
    "                cv2.line(frame1, (25, line_pos), (1200, line_pos), (0,127,255), 3)  \n",
    "                #Remove already counted car from list.\n",
    "                detected.remove((x,y))\n",
    "                print(\"Total cars detected : \"+str(cars))        \n",
    "    #Show the counter after the whole frame has been analized   \n",
    "    cv2.putText(frame1, \"Total cars : \"+str(cars), (450, 70), cv2.FONT_HERSHEY_SIMPLEX, 2, (0, 0, 255),5)\n",
    "    cv2.imshow(\"Original video\" , frame1)\n",
    "    cv2.imshow(\"Blobs\",dilat2)\n",
    "\n",
    "    #Exit program by pressing \"esc\" key\n",
    "    if cv2.waitKey(1) == 27:\n",
    "        break\n",
    "\n",
    "#Free resources\n",
    "cv2.destroyAllWindows()\n",
    "cap.release()"
   ]
  },
  {
   "cell_type": "code",
   "execution_count": null,
   "id": "pacific-pathology",
   "metadata": {},
   "outputs": [],
   "source": []
  }
 ],
 "metadata": {
  "kernelspec": {
   "display_name": "Python 3",
   "language": "python",
   "name": "python3"
  },
  "language_info": {
   "codemirror_mode": {
    "name": "ipython",
    "version": 3
   },
   "file_extension": ".py",
   "mimetype": "text/x-python",
   "name": "python",
   "nbconvert_exporter": "python",
   "pygments_lexer": "ipython3",
   "version": "3.6.5"
  }
 },
 "nbformat": 4,
 "nbformat_minor": 5
}
